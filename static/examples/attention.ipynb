{
 "cells": [
  {
   "cell_type": "code",
   "execution_count": 19,
   "metadata": {},
   "outputs": [
    {
     "name": "stdout",
     "output_type": "stream",
     "text": [
      "tensor([0, 7, 1, 2, 5, 6, 4, 3])\n",
      "torch.Size([8, 16])\n"
     ]
    }
   ],
   "source": [
    "import torch\n",
    "\n",
    "# Tokens for the sentence \"Can you help me to translate this sentence?\"\n",
    "sentence = torch.tensor(\n",
    "    [\n",
    "        0, # can\n",
    "        7, # you\n",
    "        1, # help\n",
    "        2, # me\n",
    "        5, # to\n",
    "        6, # translate\n",
    "        4, # this\n",
    "        3, # sentence\n",
    "    ]\n",
    ")\n",
    "\n",
    "print(sentence)\n",
    "\n",
    "# Compute the token embeddings for the sentence\n",
    "torch.manual_seed(123)\n",
    "\n",
    "# Vocabulary size of 10, embedding dimension of 16\n",
    "embed = torch.nn.Embedding(10, 16)\n",
    "embed_sentence = embed(sentence).detach()\n",
    "\n",
    "print(embed_sentence.shape)"
   ]
  },
  {
   "cell_type": "code",
   "execution_count": 13,
   "metadata": {},
   "outputs": [
    {
     "name": "stdout",
     "output_type": "stream",
     "text": [
      "torch.Size([8, 16]) torch.Size([8, 16]) torch.Size([8, 16])\n"
     ]
    }
   ],
   "source": [
    "torch.manual_seed(123)\n",
    "\n",
    "d = 8\n",
    "\n",
    "# Randomly initialize the query, key, and value weight matrices\n",
    "U_query = torch.randn(d, d)\n",
    "U_key = torch.randn(d, d)\n",
    "U_value = torch.randn(d, d)\n",
    "\n",
    "# Compute the query, key, and value matrices for the whole input sentence\n",
    "query = U_query @ embed_sentence\n",
    "key = U_key @ embed_sentence\n",
    "value = U_value @ embed_sentence\n",
    "\n",
    "print(query.shape, key.shape, value.shape)"
   ]
  },
  {
   "cell_type": "code",
   "execution_count": 17,
   "metadata": {},
   "outputs": [
    {
     "name": "stdout",
     "output_type": "stream",
     "text": [
      "torch.Size([8, 8])\n",
      "Input (Token Embedding) vectors: torch.Size([8, 16])\n",
      "Output (Context) vectors: torch.Size([8, 16])\n"
     ]
    }
   ],
   "source": [
    "import math\n",
    "from torch.nn import functional as F\n",
    "\n",
    "# Compute the attention scores\n",
    "attn_scores = F.softmax((query @ key.T) / math.sqrt(d), dim=1)\n",
    "\n",
    "print(attn_scores.shape)\n",
    "\n",
    "# Compute the context vectors\n",
    "context_vector = attn_scores @ value\n",
    "\n",
    "print('Input (Token Embedding) vectors:', embed_sentence.shape)\n",
    "print('Output (Context) vectors:', context_vector.shape)\n"
   ]
  },
  {
   "cell_type": "markdown",
   "metadata": {},
   "source": [
    "We still would need to add the context vectors to the input embeddings to get the final\n",
    "output embeddings."
   ]
  }
 ],
 "metadata": {
  "kernelspec": {
   "display_name": "Python 3",
   "language": "python",
   "name": "python3"
  },
  "language_info": {
   "codemirror_mode": {
    "name": "ipython",
    "version": 3
   },
   "file_extension": ".py",
   "mimetype": "text/x-python",
   "name": "python",
   "nbconvert_exporter": "python",
   "pygments_lexer": "ipython3",
   "version": "3.9.6"
  }
 },
 "nbformat": 4,
 "nbformat_minor": 2
}
