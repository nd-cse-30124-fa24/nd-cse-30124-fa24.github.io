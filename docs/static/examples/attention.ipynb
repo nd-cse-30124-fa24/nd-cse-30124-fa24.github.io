{
 "cells": [
  {
   "cell_type": "code",
   "execution_count": 3,
   "metadata": {},
   "outputs": [
    {
     "name": "stdout",
     "output_type": "stream",
     "text": [
      "tensor([0, 7, 1, 2, 5, 6, 4, 3])\n",
      "torch.Size([8, 16])\n",
      "torch.Size([8, 8])\n"
     ]
    }
   ],
   "source": [
    "import torch\n",
    "\n",
    "sentence = torch.tensor(\n",
    "    [\n",
    "        0, # can\n",
    "        7, # you\n",
    "        1, # help\n",
    "        2, # me\n",
    "        5, # to\n",
    "        6, # translate\n",
    "        4, # this\n",
    "        3, # sentence\n",
    "    ]\n",
    ")\n",
    "\n",
    "print(sentence)\n",
    "\n",
    "torch.manual_seed(123)\n",
    "\n",
    "embed = torch.nn.Embedding(10, 16)\n",
    "embed_sentence = embed(sentence).detach()\n",
    "\n",
    "print(embed_sentence.shape)\n",
    "\n",
    "# omega = torch.empty(8, 8)\n",
    "\n",
    "# for i, x_i in enumerate(embed_sentence):\n",
    "#     for j, x_j in enumerate(embed_sentence):\n",
    "#         omega[i, j] = torch.dot(x_i, x_j)\n",
    "\n",
    "# omega_mat = embed_sentence.matmul(embed_sentence.T)\n",
    "omega_mat = embed_sentence @ embed_sentence.T\n",
    "\n",
    "print(omega_mat.shape)"
   ]
  },
  {
   "cell_type": "code",
   "execution_count": 4,
   "metadata": {},
   "outputs": [
    {
     "name": "stdout",
     "output_type": "stream",
     "text": [
      "torch.Size([8, 8])\n"
     ]
    }
   ],
   "source": [
    "import torch.nn.functional as F\n",
    "\n",
    "attn_scores = F.softmax(omega_mat, dim=1)\n",
    "\n",
    "print(attn_scores.shape)\n"
   ]
  },
  {
   "cell_type": "code",
   "execution_count": 5,
   "metadata": {},
   "outputs": [
    {
     "name": "stdout",
     "output_type": "stream",
     "text": [
      "torch.Size([8, 16])\n"
     ]
    }
   ],
   "source": [
    "context_vector = attn_scores @ embed_sentence\n",
    "\n",
    "print(context_vector.shape)"
   ]
  },
  {
   "cell_type": "code",
   "execution_count": 13,
   "metadata": {},
   "outputs": [
    {
     "name": "stdout",
     "output_type": "stream",
     "text": [
      "torch.Size([8, 16]) torch.Size([8, 16]) torch.Size([8, 16])\n"
     ]
    }
   ],
   "source": [
    "torch.manual_seed(123)\n",
    "\n",
    "# d = embed_sentence.shape[1]\n",
    "d = 8\n",
    "\n",
    "U_query = torch.randn(d, d)\n",
    "U_key = torch.randn(d, d)\n",
    "U_value = torch.randn(d, d)\n",
    "\n",
    "query = U_query @ embed_sentence\n",
    "key = U_key @ embed_sentence\n",
    "value = U_value @ embed_sentence\n",
    "\n",
    "print(query.shape, key.shape, value.shape)"
   ]
  },
  {
   "cell_type": "code",
   "execution_count": 16,
   "metadata": {},
   "outputs": [
    {
     "name": "stdout",
     "output_type": "stream",
     "text": [
      "torch.Size([8, 8])\n",
      "torch.Size([8, 16])\n",
      "torch.Size([8, 16])\n"
     ]
    }
   ],
   "source": [
    "import math\n",
    "\n",
    "attn_scores = F.softmax((query @ key.T) / math.sqrt(d), dim=1)\n",
    "\n",
    "print(attn_scores.shape)\n",
    "\n",
    "context_vector = attn_scores @ value\n",
    "\n",
    "print('Input (Token Embedding) vectors:', embed_sentence.shape)\n",
    "print('Output (Context) vectors:', context_vector.shape)\n"
   ]
  }
 ],
 "metadata": {
  "kernelspec": {
   "display_name": "Python 3",
   "language": "python",
   "name": "python3"
  },
  "language_info": {
   "codemirror_mode": {
    "name": "ipython",
    "version": 3
   },
   "file_extension": ".py",
   "mimetype": "text/x-python",
   "name": "python",
   "nbconvert_exporter": "python",
   "pygments_lexer": "ipython3",
   "version": "3.9.6"
  }
 },
 "nbformat": 4,
 "nbformat_minor": 2
}
